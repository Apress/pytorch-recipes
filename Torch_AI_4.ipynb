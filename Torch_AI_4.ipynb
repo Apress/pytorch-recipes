{
 "cells": [
  {
   "cell_type": "code",
   "execution_count": 1,
   "metadata": {
    "collapsed": true
   },
   "outputs": [],
   "source": [
    "import numpy as np\n",
    "from __future__ import print_function\n",
    "import torch\n",
    "import torch.nn as nn\n",
    "import torch.optim as optim\n",
    "import torch.nn.init as init\n",
    "import torch.nn.functional as F\n",
    "from torch.autograd import Variable"
   ]
  },
  {
   "cell_type": "code",
   "execution_count": 2,
   "metadata": {
    "collapsed": true
   },
   "outputs": [],
   "source": [
    "#torch.nn: - Neural networks can be constructed using the torch.nn package."
   ]
  },
  {
   "cell_type": "code",
   "execution_count": 3,
   "metadata": {},
   "outputs": [
    {
     "name": "stdout",
     "output_type": "stream",
     "text": [
      "Output size :  torch.Size([100, 5])\n",
      "Output size :  torch.Size([100, 5])\n"
     ]
    }
   ],
   "source": [
    "x = Variable(torch.randn(100, 10))\n",
    "y = Variable(torch.randn(100, 30))\n",
    "\n",
    "linear = nn.Linear(in_features=10, out_features=5, bias=True)\n",
    "output_linear = linear(x)\n",
    "print('Output size : ', output_linear.size())\n",
    "\n",
    "bilinear = nn.Bilinear(in1_features=10, in2_features=30, out_features=5, bias=True)\n",
    "output_bilinear = bilinear(x, y)\n",
    "print('Output size : ', output_bilinear.size())"
   ]
  },
  {
   "cell_type": "code",
   "execution_count": 4,
   "metadata": {},
   "outputs": [
    {
     "name": "stdout",
     "output_type": "stream",
     "text": [
      "Output size :  torch.Size([100, 10])\n",
      "Output size :  torch.Size([100, 30])\n"
     ]
    }
   ],
   "source": [
    "x = Variable(torch.randn(100, 10))\n",
    "y = Variable(torch.randn(100, 30))\n",
    "\n",
    "sig = nn.Sigmoid()\n",
    "output_sig = sig(x)\n",
    "output_sigy = sig(y)\n",
    "print('Output size : ', output_sig.size())\n",
    "print('Output size : ', output_sigy.size())"
   ]
  },
  {
   "cell_type": "code",
   "execution_count": 5,
   "metadata": {},
   "outputs": [
    {
     "name": "stdout",
     "output_type": "stream",
     "text": [
      "tensor([ 1.5325, -0.1192,  0.7443,  0.4696, -0.3996, -0.2290, -0.4939,  0.7307,\n",
      "         1.9625,  1.8852])\n",
      "tensor([0.8224, 0.4702, 0.6779, 0.6153, 0.4014, 0.4430, 0.3790, 0.6750, 0.8768,\n",
      "        0.8682])\n"
     ]
    }
   ],
   "source": [
    "print(x[0])\n",
    "print(output_sig[0])"
   ]
  },
  {
   "cell_type": "code",
   "execution_count": 6,
   "metadata": {},
   "outputs": [
    {
     "name": "stdout",
     "output_type": "stream",
     "text": [
      "Output size :  torch.Size([100, 10])\n",
      "Output size :  torch.Size([100, 30])\n"
     ]
    }
   ],
   "source": [
    "x = Variable(torch.randn(100, 10))\n",
    "y = Variable(torch.randn(100, 30))\n",
    "\n",
    "func = nn.Tanh()\n",
    "output_x = func(x)\n",
    "output_y = func(y)\n",
    "print('Output size : ', output_x.size())\n",
    "print('Output size : ', output_y.size())"
   ]
  },
  {
   "cell_type": "code",
   "execution_count": 7,
   "metadata": {},
   "outputs": [
    {
     "name": "stdout",
     "output_type": "stream",
     "text": [
      "tensor([ 1.9040,  0.9865,  0.5902, -0.0119, -1.1839,  1.1157,  0.0491, -0.5634,\n",
      "        -0.5739, -0.0915])\n",
      "tensor([ 0.9566,  0.7559,  0.5300, -0.0119, -0.8287,  0.8061,  0.0490, -0.5105,\n",
      "        -0.5182, -0.0913])\n",
      "tensor([-0.6040,  0.4982, -0.3855,  0.8471,  0.1878, -0.9120, -0.1233,  0.4404,\n",
      "        -1.5006, -0.7271,  1.2325, -0.9579, -2.1563, -0.1659,  0.3000, -1.0285,\n",
      "        -2.0542,  1.0215,  0.8815,  2.7387, -1.5575,  0.9263, -0.2420,  1.4894,\n",
      "         0.4274,  0.7546,  0.9662,  0.9938,  0.3938,  0.5279])\n",
      "tensor([-0.5399,  0.4607, -0.3674,  0.6896,  0.1856, -0.7221, -0.1227,  0.4140,\n",
      "        -0.9053, -0.6213,  0.8433, -0.7433, -0.9736, -0.1644,  0.2913, -0.7733,\n",
      "        -0.9677,  0.7705,  0.7072,  0.9917, -0.9150,  0.7289, -0.2374,  0.9032,\n",
      "         0.4031,  0.6379,  0.7470,  0.7590,  0.3747,  0.4838])\n"
     ]
    }
   ],
   "source": [
    "print(x[0])\n",
    "print(output_x[0])\n",
    "print(y[0])\n",
    "print(output_y[0])"
   ]
  },
  {
   "cell_type": "code",
   "execution_count": 8,
   "metadata": {},
   "outputs": [
    {
     "name": "stdout",
     "output_type": "stream",
     "text": [
      "Output size :  torch.Size([100, 10])\n",
      "Output size :  torch.Size([100, 30])\n"
     ]
    }
   ],
   "source": [
    "x = Variable(torch.randn(100, 10))\n",
    "y = Variable(torch.randn(100, 30))\n",
    "\n",
    "func = nn.LogSigmoid()\n",
    "output_x = func(x)\n",
    "output_y = func(y)\n",
    "print('Output size : ', output_x.size())\n",
    "print('Output size : ', output_y.size())"
   ]
  },
  {
   "cell_type": "code",
   "execution_count": 9,
   "metadata": {},
   "outputs": [
    {
     "name": "stdout",
     "output_type": "stream",
     "text": [
      "tensor([-0.1882,  2.1937,  0.2143, -0.5117,  0.2683, -1.5367, -0.1725, -0.1069,\n",
      "        -0.1077, -0.8164])\n",
      "tensor([-0.7917, -0.1057, -0.5917, -0.9814, -0.5680, -1.7315, -0.7831, -0.7480,\n",
      "        -0.7485, -1.1825])\n",
      "tensor([-0.6322,  1.1316,  0.6100, -1.0292, -0.6858, -0.1626,  0.5313,  0.3809,\n",
      "         0.7807,  1.2960,  0.4634, -0.1030,  0.7024,  0.1865, -0.6282,  1.0392,\n",
      "         0.0105, -1.7282, -1.1551, -1.5041,  0.3256,  1.0605,  0.0639, -0.7072,\n",
      "        -1.2789, -2.3255,  0.9516, -0.5806, -0.2420, -0.2606])\n",
      "tensor([-1.0584, -0.2795, -0.4340, -1.3347, -1.0937, -0.7777, -0.4624, -0.5207,\n",
      "        -0.3771, -0.2419, -0.4880, -0.7460, -0.4024, -0.6042, -1.0558, -0.3029,\n",
      "        -0.6879, -1.8917, -1.4290, -1.7048, -0.5435, -0.2974, -0.6617, -1.1080,\n",
      "        -1.5245, -2.4188, -0.3265, -1.0250, -0.8215, -0.8319])\n"
     ]
    }
   ],
   "source": [
    "print(x[0])\n",
    "print(output_x[0])\n",
    "print(y[0])\n",
    "print(output_y[0])"
   ]
  },
  {
   "cell_type": "code",
   "execution_count": 10,
   "metadata": {},
   "outputs": [
    {
     "name": "stdout",
     "output_type": "stream",
     "text": [
      "Output size :  torch.Size([100, 10])\n",
      "Output size :  torch.Size([100, 30])\n"
     ]
    }
   ],
   "source": [
    "x = Variable(torch.randn(100, 10))\n",
    "y = Variable(torch.randn(100, 30))\n",
    "\n",
    "func = nn.ReLU()\n",
    "output_x = func(x)\n",
    "output_y = func(y)\n",
    "print('Output size : ', output_x.size())\n",
    "print('Output size : ', output_y.size())"
   ]
  },
  {
   "cell_type": "code",
   "execution_count": 11,
   "metadata": {},
   "outputs": [
    {
     "name": "stdout",
     "output_type": "stream",
     "text": [
      "tensor([-0.7700, -1.1810,  0.7188,  0.1945,  0.3566, -0.3520, -2.2136,  0.3014,\n",
      "         0.3616, -0.3331])\n",
      "tensor([0.0000, 0.0000, 0.7188, 0.1945, 0.3566, 0.0000, 0.0000, 0.3014, 0.3616,\n",
      "        0.0000])\n",
      "tensor([-0.0335, -0.3917, -0.0635,  0.7571,  0.9160, -0.5633, -1.4463,  1.6797,\n",
      "         1.7013, -0.9248, -0.6231,  1.1278, -0.4329,  0.6814,  0.2152,  0.4618,\n",
      "         0.2440,  1.2931, -0.4524, -0.7411, -0.7834,  1.0311,  1.6846, -0.8909,\n",
      "         1.0070,  0.5172,  0.4322,  0.0947,  0.7641,  0.3708])\n",
      "tensor([0.0000, 0.0000, 0.0000, 0.7571, 0.9160, 0.0000, 0.0000, 1.6797, 1.7013,\n",
      "        0.0000, 0.0000, 1.1278, 0.0000, 0.6814, 0.2152, 0.4618, 0.2440, 1.2931,\n",
      "        0.0000, 0.0000, 0.0000, 1.0311, 1.6846, 0.0000, 1.0070, 0.5172, 0.4322,\n",
      "        0.0947, 0.7641, 0.3708])\n"
     ]
    }
   ],
   "source": [
    "print(x[0])\n",
    "print(output_x[0])\n",
    "print(y[0])\n",
    "print(output_y[0])"
   ]
  },
  {
   "cell_type": "code",
   "execution_count": 12,
   "metadata": {},
   "outputs": [
    {
     "name": "stdout",
     "output_type": "stream",
     "text": [
      "Output size :  torch.Size([100, 10])\n",
      "Output size :  torch.Size([100, 30])\n"
     ]
    }
   ],
   "source": [
    "x = Variable(torch.randn(100, 10))\n",
    "y = Variable(torch.randn(100, 30))\n",
    "\n",
    "func = nn.LeakyReLU()\n",
    "output_x = func(x)\n",
    "output_y = func(y)\n",
    "print('Output size : ', output_x.size())\n",
    "print('Output size : ', output_y.size())"
   ]
  },
  {
   "cell_type": "code",
   "execution_count": 13,
   "metadata": {},
   "outputs": [
    {
     "name": "stdout",
     "output_type": "stream",
     "text": [
      "tensor([ 0.4568,  1.6528, -1.8593,  0.2683,  1.0176, -0.5545,  0.1327,  0.1778,\n",
      "        -1.6823, -0.4703])\n",
      "tensor([ 0.4568,  1.6528, -0.0186,  0.2683,  1.0176, -0.0055,  0.1327,  0.1778,\n",
      "        -0.0168, -0.0047])\n",
      "tensor([ 2.3048, -0.0535,  0.3125, -0.1602, -1.7538,  0.3496,  0.0635,  1.3486,\n",
      "        -1.0511,  2.0831, -0.6695, -0.7135, -1.3160, -0.5777,  1.8069, -0.4711,\n",
      "        -0.4981, -1.2562, -0.6824, -1.8397,  1.3567, -1.5145, -0.1898,  1.3763,\n",
      "        -0.6095, -0.4215,  0.7330, -1.6545,  0.4332,  0.5325])\n",
      "tensor([ 2.3048, -0.0005,  0.3125, -0.0016, -0.0175,  0.3496,  0.0635,  1.3486,\n",
      "        -0.0105,  2.0831, -0.0067, -0.0071, -0.0132, -0.0058,  1.8069, -0.0047,\n",
      "        -0.0050, -0.0126, -0.0068, -0.0184,  1.3567, -0.0151, -0.0019,  1.3763,\n",
      "        -0.0061, -0.0042,  0.7330, -0.0165,  0.4332,  0.5325])\n"
     ]
    }
   ],
   "source": [
    "print(x[0])\n",
    "print(output_x[0])\n",
    "print(y[0])\n",
    "print(output_y[0])"
   ]
  },
  {
   "cell_type": "code",
   "execution_count": 31,
   "metadata": {
    "collapsed": true
   },
   "outputs": [],
   "source": [
    "import torch.nn.functional as F\n",
    "from torch.autograd import Variable\n",
    "import matplotlib.pyplot as plt\n",
    "%matplotlib inline"
   ]
  },
  {
   "cell_type": "code",
   "execution_count": 32,
   "metadata": {},
   "outputs": [],
   "source": [
    "x = torch.linspace(-10, 10, 1500)  \n",
    "x = Variable(x)\n",
    "x_1 = x.data.numpy()   # tranforming into numpy"
   ]
  },
  {
   "cell_type": "code",
   "execution_count": 33,
   "metadata": {
    "collapsed": true
   },
   "outputs": [],
   "source": [
    "y_relu = F.relu(x).data.numpy()\n",
    "y_sigmoid = torch.sigmoid(x).data.numpy()\n",
    "y_tanh = torch.tanh(x).data.numpy()\n",
    "y_softplus = F.softplus(x).data.numpy()"
   ]
  },
  {
   "cell_type": "code",
   "execution_count": 34,
   "metadata": {},
   "outputs": [
    {
     "data": {
      "text/plain": [
       "<matplotlib.legend.Legend at 0x1d7b4a48fd0>"
      ]
     },
     "execution_count": 34,
     "metadata": {},
     "output_type": "execute_result"
    },
    {
     "data": {
      "image/png": "[encoded data removed]",
      "text/plain": [
       "<matplotlib.figure.Figure at 0x1d7b47f9278>"
      ]
     },
     "metadata": {},
     "output_type": "display_data"
    }
   ],
   "source": [
    "plt.figure(figsize=(7, 4))\n",
    "plt.plot(x_1, y_relu, c='blue', label='ReLU')\n",
    "plt.ylim((-1, 11))\n",
    "plt.legend(loc='best')"
   ]
  },
  {
   "cell_type": "code",
   "execution_count": 35,
   "metadata": {},
   "outputs": [
    {
     "data": {
      "text/plain": [
       "<matplotlib.legend.Legend at 0x1d7b47f9780>"
      ]
     },
     "execution_count": 35,
     "metadata": {},
     "output_type": "execute_result"
    },
    {
     "data": {
      "image/png": "[encoded data removed]",
      "text/plain": [
       "<matplotlib.figure.Figure at 0x1d7b4a66240>"
      ]
     },
     "metadata": {},
     "output_type": "display_data"
    }
   ],
   "source": [
    "plt.figure(figsize=(7, 4))\n",
    "plt.plot(x_1, y_sigmoid, c='blue', label='sigmoid')\n",
    "plt.ylim((-0.2, 1.2))\n",
    "plt.legend(loc='best')"
   ]
  },
  {
   "cell_type": "code",
   "execution_count": 36,
   "metadata": {},
   "outputs": [
    {
     "data": {
      "text/plain": [
       "<matplotlib.legend.Legend at 0x1d7b4b1eef0>"
      ]
     },
     "execution_count": 36,
     "metadata": {},
     "output_type": "execute_result"
    },
    {
     "data": {
      "image/png": "[encoded data removed]",
      "text/plain": [
       "<matplotlib.figure.Figure at 0x1d7b4a16630>"
      ]
     },
     "metadata": {},
     "output_type": "display_data"
    }
   ],
   "source": [
    "plt.figure(figsize=(7, 4))\n",
    "plt.plot(x_1, y_tanh, c='blue', label='tanh')\n",
    "plt.ylim((-1.2, 1.2))\n",
    "plt.legend(loc='best')"
   ]
  },
  {
   "cell_type": "code",
   "execution_count": 37,
   "metadata": {},
   "outputs": [
    {
     "data": {
      "text/plain": [
       "<matplotlib.legend.Legend at 0x1d7b4b89ef0>"
      ]
     },
     "execution_count": 37,
     "metadata": {},
     "output_type": "execute_result"
    },
    {
     "data": {
      "image/png": "[encoded data removed]",
      "text/plain": [
       "<matplotlib.figure.Figure at 0x1d7b4abd4e0>"
      ]
     },
     "metadata": {},
     "output_type": "display_data"
    }
   ],
   "source": [
    "plt.figure(figsize=(7, 4))\n",
    "plt.plot(x_1, y_softplus, c='blue', label='softplus')\n",
    "plt.ylim((-0.2, 11))\n",
    "plt.legend(loc='best')"
   ]
  },
  {
   "cell_type": "code",
   "execution_count": 185,
   "metadata": {
    "collapsed": true
   },
   "outputs": [],
   "source": [
    "def prep_data():\n",
    "    train_X = np.asarray([13.3,14.4,15.5,16.71,16.93,14.168,19.779,16.182,\n",
    "                          17.59,12.167,17.042,10.791,15.313,17.997,15.654,\n",
    "                          19.27,13.1])\n",
    "    train_Y = np.asarray([11.7,12.76,12.09,13.19,11.694,11.573,13.366,12.596,\n",
    "                          12.53,11.221,12.827,13.465,11.65,12.904,12.42,12.94,\n",
    "                          11.3])\n",
    "    dtype = torch.FloatTensor\n",
    "    X = Variable(torch.from_numpy(train_X).type(dtype),\n",
    "                 requires_grad=False).view(17,1)\n",
    "    y = Variable(torch.from_numpy(train_Y).type(dtype),requires_grad=False)\n",
    "    return X,y"
   ]
  },
  {
   "cell_type": "code",
   "execution_count": 186,
   "metadata": {
    "collapsed": true
   },
   "outputs": [],
   "source": [
    "# get dynamic parameters"
   ]
  },
  {
   "cell_type": "code",
   "execution_count": 187,
   "metadata": {
    "collapsed": true
   },
   "outputs": [],
   "source": [
    "def set_weights():\n",
    "    w = Variable(torch.randn(1),requires_grad = True)\n",
    "    b = Variable(torch.randn(1),requires_grad=True)\n",
    "    return w,b"
   ]
  },
  {
   "cell_type": "code",
   "execution_count": 188,
   "metadata": {
    "collapsed": true
   },
   "outputs": [],
   "source": [
    "#deploy neural network model"
   ]
  },
  {
   "cell_type": "code",
   "execution_count": 189,
   "metadata": {
    "collapsed": true
   },
   "outputs": [],
   "source": [
    "def build_network(x):\n",
    "    y_pred = torch.matmul(x,w)+b\n",
    "    return y_pred"
   ]
  },
  {
   "cell_type": "code",
   "execution_count": 190,
   "metadata": {},
   "outputs": [
    {
     "data": {
      "text/plain": [
       "Linear(in_features=17, out_features=1, bias=True)"
      ]
     },
     "execution_count": 190,
     "metadata": {},
     "output_type": "execute_result"
    }
   ],
   "source": [
    "#implement in PyTorch\n",
    "import torch.nn as nn\n",
    "f = nn.Linear(17,1) # Much simpler.\n",
    "f"
   ]
  },
  {
   "cell_type": "code",
   "execution_count": 191,
   "metadata": {
    "collapsed": true
   },
   "outputs": [],
   "source": [
    "#calculate the loss function"
   ]
  },
  {
   "cell_type": "code",
   "execution_count": 210,
   "metadata": {
    "collapsed": true
   },
   "outputs": [],
   "source": [
    "def loss_calc(y,y_pred):\n",
    "    loss = (y_pred-y).pow(2).sum()\n",
    "    for param in [w,b]:\n",
    "        if not param.grad is None: param.grad.data.zero_()\n",
    "    loss.backward()\n",
    "    return loss.data[0]"
   ]
  },
  {
   "cell_type": "code",
   "execution_count": 211,
   "metadata": {
    "collapsed": true
   },
   "outputs": [],
   "source": [
    "# optimizing results"
   ]
  },
  {
   "cell_type": "code",
   "execution_count": 212,
   "metadata": {
    "collapsed": true
   },
   "outputs": [],
   "source": [
    "def optimize(learning_rate):\n",
    "    w.data -= learning_rate * w.grad.data\n",
    "    b.data -= learning_rate * b.grad.data"
   ]
  },
  {
   "cell_type": "code",
   "execution_count": 208,
   "metadata": {
    "collapsed": true
   },
   "outputs": [],
   "source": [
    "learning_rate = 1e-4"
   ]
  },
  {
   "cell_type": "code",
   "execution_count": 216,
   "metadata": {},
   "outputs": [
    {
     "name": "stderr",
     "output_type": "stream",
     "text": [
      "C:\\Users\\Mafoi\\Anaconda3\\lib\\site-packages\\ipykernel_launcher.py:6: UserWarning: invalid index of a 0-dim tensor. This will be an error in PyTorch 0.5. Use tensor.item() to convert a 0-dim tensor to a Python number\n",
      "  \n"
     ]
    },
    {
     "name": "stdout",
     "output_type": "stream",
     "text": [
      "tensor(573.6302)\n",
      "tensor(38.7160)\n",
      "tensor(34.2038)\n",
      "tensor(30.3315)\n",
      "tensor(27.0084)\n"
     ]
    }
   ],
   "source": [
    "x,y = prep_data()  # x - training data,y - target variables\n",
    "w,b = set_weights() # w,b - parameters\n",
    "for i in range(5000):\n",
    "    y_pred = build_network(x) # function which computes wx + b\n",
    "    loss = loss_calc(y,y_pred) # error calculation\n",
    "    if i % 1000 == 0: \n",
    "        print(loss)\n",
    "    optimize(learning_rate)    # minimize the loss w.r.t. w, b"
   ]
  },
  {
   "cell_type": "code",
   "execution_count": 197,
   "metadata": {
    "collapsed": true
   },
   "outputs": [],
   "source": [
    "import matplotlib.pyplot as plt\n",
    "%matplotlib inline"
   ]
  },
  {
   "cell_type": "code",
   "execution_count": 198,
   "metadata": {},
   "outputs": [
    {
     "data": {
      "text/plain": [
       "[<matplotlib.lines.Line2D at 0x1d7b4da98d0>]"
      ]
     },
     "execution_count": 198,
     "metadata": {},
     "output_type": "execute_result"
    },
    {
     "data": {
      "image/png": "[encoded data removed]",
      "text/plain": [
       "<matplotlib.figure.Figure at 0x1d7b4da9f28>"
      ]
     },
     "metadata": {},
     "output_type": "display_data"
    }
   ],
   "source": [
    "x_numpy = x.data.numpy()\n",
    "y_numpy = y.data.numpy()\n",
    "y_pred = y_pred.data.numpy()\n",
    "plt.plot(x_numpy,y_numpy,'o')\n",
    "plt.plot(x_numpy,y_pred,'-')"
   ]
  },
  {
   "cell_type": "code",
   "execution_count": 219,
   "metadata": {
    "collapsed": true
   },
   "outputs": [],
   "source": [
    "x = Variable(torch.ones(4, 4) * 12.5, requires_grad=True)"
   ]
  },
  {
   "cell_type": "code",
   "execution_count": 220,
   "metadata": {},
   "outputs": [
    {
     "data": {
      "text/plain": [
       "tensor([[12.5000, 12.5000, 12.5000, 12.5000],\n",
       "        [12.5000, 12.5000, 12.5000, 12.5000],\n",
       "        [12.5000, 12.5000, 12.5000, 12.5000],\n",
       "        [12.5000, 12.5000, 12.5000, 12.5000]], requires_grad=True)"
      ]
     },
     "execution_count": 220,
     "metadata": {},
     "output_type": "execute_result"
    }
   ],
   "source": [
    "x"
   ]
  },
  {
   "cell_type": "code",
   "execution_count": 221,
   "metadata": {
    "collapsed": true
   },
   "outputs": [],
   "source": [
    "fn = 2 * (x * x) + 5 * x + 6\n",
    "\n",
    "# 2x^2 + 5x + 6"
   ]
  },
  {
   "cell_type": "code",
   "execution_count": 224,
   "metadata": {},
   "outputs": [],
   "source": [
    "fn.backward(torch.ones(4,4))"
   ]
  },
  {
   "cell_type": "code",
   "execution_count": 225,
   "metadata": {},
   "outputs": [
    {
     "name": "stdout",
     "output_type": "stream",
     "text": [
      "tensor([[55., 55., 55., 55.],\n",
      "        [55., 55., 55., 55.],\n",
      "        [55., 55., 55., 55.],\n",
      "        [55., 55., 55., 55.]])\n"
     ]
    }
   ],
   "source": [
    "print(x.grad)"
   ]
  }
 ],
 "metadata": {
  "kernelspec": {
   "display_name": "Python 3",
   "language": "python",
   "name": "python3"
  },
  "language_info": {
   "codemirror_mode": {
    "name": "ipython",
    "version": 3
   },
   "file_extension": ".py",
   "mimetype": "text/x-python",
   "name": "python",
   "nbconvert_exporter": "python",
   "pygments_lexer": "ipython3",
   "version": "3.6.4"
  }
 },
 "nbformat": 4,
 "nbformat_minor": 2
}
